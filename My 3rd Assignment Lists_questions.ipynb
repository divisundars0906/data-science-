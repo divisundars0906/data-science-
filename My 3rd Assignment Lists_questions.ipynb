{
 "cells": [
  {
   "cell_type": "markdown",
   "id": "c0daea1c",
   "metadata": {},
   "source": [
    "# 1.Create a empty list and check its Data type"
   ]
  },
  {
   "cell_type": "code",
   "execution_count": 2,
   "id": "2c6d6924",
   "metadata": {},
   "outputs": [
    {
     "data": {
      "text/plain": [
       "list"
      ]
     },
     "execution_count": 2,
     "metadata": {},
     "output_type": "execute_result"
    }
   ],
   "source": [
    "list1=[]\n",
    "type(list1)"
   ]
  },
  {
   "cell_type": "markdown",
   "id": "fdf074db",
   "metadata": {},
   "source": [
    "# 2.Create a list in which at even places string are present and at odd places integervalue is present and the length of the list is 6."
   ]
  },
  {
   "cell_type": "code",
   "execution_count": 4,
   "id": "0f7e77fd",
   "metadata": {},
   "outputs": [
    {
     "data": {
      "text/plain": [
       "6"
      ]
     },
     "execution_count": 4,
     "metadata": {},
     "output_type": "execute_result"
    }
   ],
   "source": [
    "a= [1,\"Apple\",3,\"Mango\",5,\"Orange\"]\n",
    "len(a)"
   ]
  },
  {
   "cell_type": "markdown",
   "id": "12165ed9",
   "metadata": {},
   "source": [
    "# 3.Create a list which has 6 elements and print last three elements from the list"
   ]
  },
  {
   "cell_type": "code",
   "execution_count": 16,
   "id": "43577542",
   "metadata": {},
   "outputs": [
    {
     "data": {
      "text/plain": [
       "[4, 5, 6]"
      ]
     },
     "execution_count": 16,
     "metadata": {},
     "output_type": "execute_result"
    }
   ],
   "source": [
    "a= [1,2,3,4,5,6]\n",
    "list[-3:]"
   ]
  },
  {
   "cell_type": "markdown",
   "id": "31e2d457",
   "metadata": {},
   "source": [
    "# 4.What is the output : list = [1,2,3,4,5,6,7]     list[:]=?"
   ]
  },
  {
   "cell_type": "code",
   "execution_count": 5,
   "id": "f585484a",
   "metadata": {},
   "outputs": [
    {
     "data": {
      "text/plain": [
       "[1, 2, 3, 4, 5, 6, 7]"
      ]
     },
     "execution_count": 5,
     "metadata": {},
     "output_type": "execute_result"
    }
   ],
   "source": [
    "list = [1,2,3,4,5,6,7]\n",
    "list[:]"
   ]
  },
  {
   "cell_type": "markdown",
   "id": "05033f23",
   "metadata": {},
   "source": [
    "# 5.What is the output : list = [1,2,3,4,5,6,7] Print the even places items from the list."
   ]
  },
  {
   "cell_type": "markdown",
   "id": "e9a4f7e7",
   "metadata": {},
   "source": []
  },
  {
   "cell_type": "code",
   "execution_count": 20,
   "id": "de6b9f6f",
   "metadata": {},
   "outputs": [
    {
     "data": {
      "text/plain": [
       "[2, 4, 6]"
      ]
     },
     "execution_count": 20,
     "metadata": {},
     "output_type": "execute_result"
    }
   ],
   "source": [
    "list = [1,2,3,4,5,6,7]\n",
    "list[1:7:2]\n"
   ]
  },
  {
   "cell_type": "markdown",
   "id": "35721fd5",
   "metadata": {},
   "source": [
    "# 6.What is the output : list = [1,2,3,4,10,11,7]print 10 and 11 item from the list ."
   ]
  },
  {
   "cell_type": "code",
   "execution_count": 45,
   "id": "df50e961",
   "metadata": {},
   "outputs": [
    {
     "data": {
      "text/plain": [
       "[10, 11]"
      ]
     },
     "execution_count": 45,
     "metadata": {},
     "output_type": "execute_result"
    }
   ],
   "source": [
    " list = [1,2,3,4,10,11,7]\n",
    "list[4:6]\n",
    "    "
   ]
  },
  {
   "cell_type": "markdown",
   "id": "97ed8c23",
   "metadata": {},
   "source": [
    "# 7.Delete the 3 index value from the list and the print the list. list = [1, 2, 3, 4, 5, 6]  print(list)"
   ]
  },
  {
   "cell_type": "code",
   "execution_count": 46,
   "id": "33c82dd9",
   "metadata": {},
   "outputs": [
    {
     "data": {
      "text/plain": [
       "4"
      ]
     },
     "execution_count": 46,
     "metadata": {},
     "output_type": "execute_result"
    }
   ],
   "source": [
    "list = [1, 2, 3, 4, 5, 6]\n",
    "list.pop(3)"
   ]
  },
  {
   "cell_type": "code",
   "execution_count": 28,
   "id": "7e99b447",
   "metadata": {},
   "outputs": [
    {
     "data": {
      "text/plain": [
       "[1, 2, 4, 5, 6]"
      ]
     },
     "execution_count": 28,
     "metadata": {},
     "output_type": "execute_result"
    }
   ],
   "source": [
    "list"
   ]
  },
  {
   "cell_type": "code",
   "execution_count": null,
   "id": "4a606c42",
   "metadata": {},
   "outputs": [],
   "source": []
  },
  {
   "cell_type": "markdown",
   "id": "e11d0cbc",
   "metadata": {},
   "source": [
    "# 8.list = [1, \"a\", 3, 4, 5, 6]. replace \"a\" by 2 in the list. What is the new list?"
   ]
  },
  {
   "cell_type": "code",
   "execution_count": 26,
   "id": "35b3022c",
   "metadata": {},
   "outputs": [
    {
     "data": {
      "text/plain": [
       "[1, 2, 3, 4, 5, 6]"
      ]
     },
     "execution_count": 26,
     "metadata": {},
     "output_type": "execute_result"
    }
   ],
   "source": [
    "list = [1, \"a\", 3, 4, 5, 6]\n",
    "list[1]=2\n",
    "list"
   ]
  },
  {
   "cell_type": "markdown",
   "id": "7597d83e",
   "metadata": {},
   "source": [
    "# 9.list = [1, 2, 3, 4, 5, 6]by using neagtive indexing replace 5 by 'e' in the list. print(list)"
   ]
  },
  {
   "cell_type": "code",
   "execution_count": 48,
   "id": "7fed2541",
   "metadata": {},
   "outputs": [
    {
     "data": {
      "text/plain": [
       "[1, 2, 3, 4, 'e', 6]"
      ]
     },
     "execution_count": 48,
     "metadata": {},
     "output_type": "execute_result"
    }
   ],
   "source": [
    "list = [1, 2, 3, 4, 5, 6]\n",
    "list[-2]='e'\n",
    "list"
   ]
  },
  {
   "cell_type": "markdown",
   "id": "49f7f285",
   "metadata": {},
   "source": [
    "# 10.list = [1, 2, 3, 4, 5, 6] replace 1st and 2nd index value by (89,78) print(list)"
   ]
  },
  {
   "cell_type": "code",
   "execution_count": 49,
   "id": "7fd6a30e",
   "metadata": {},
   "outputs": [
    {
     "name": "stdout",
     "output_type": "stream",
     "text": [
      "[1, 89, 78, 4, 5, 6]\n"
     ]
    }
   ],
   "source": [
    "list=[1,2,3,4,5,6]\n",
    "list[1]=89\n",
    "list[2]=78\n",
    "print(list)"
   ]
  },
  {
   "cell_type": "markdown",
   "id": "2024b291",
   "metadata": {},
   "source": [
    "# 11.Rermove Science item from the list. Subject =['math', 'science', 'hindi', 'SST', 'Sanskrit']"
   ]
  },
  {
   "cell_type": "code",
   "execution_count": 50,
   "id": "9544ae4e",
   "metadata": {},
   "outputs": [],
   "source": [
    "subject =['math', 'science', 'hindi', 'SST', 'Sanskrit']"
   ]
  },
  {
   "cell_type": "code",
   "execution_count": 51,
   "id": "d57e85a0",
   "metadata": {},
   "outputs": [],
   "source": [
    "subject.remove('science')"
   ]
  },
  {
   "cell_type": "code",
   "execution_count": 52,
   "id": "262afe49",
   "metadata": {},
   "outputs": [
    {
     "data": {
      "text/plain": [
       "['math', 'hindi', 'SST', 'Sanskrit']"
      ]
     },
     "execution_count": 52,
     "metadata": {},
     "output_type": "execute_result"
    }
   ],
   "source": [
    "subject"
   ]
  },
  {
   "cell_type": "code",
   "execution_count": null,
   "id": "df8b60fc",
   "metadata": {},
   "outputs": [],
   "source": []
  }
 ],
 "metadata": {
  "kernelspec": {
   "display_name": "Python 3",
   "language": "python",
   "name": "python3"
  },
  "language_info": {
   "codemirror_mode": {
    "name": "ipython",
    "version": 3
   },
   "file_extension": ".py",
   "mimetype": "text/x-python",
   "name": "python",
   "nbconvert_exporter": "python",
   "pygments_lexer": "ipython3",
   "version": "3.8.8"
  }
 },
 "nbformat": 4,
 "nbformat_minor": 5
}
